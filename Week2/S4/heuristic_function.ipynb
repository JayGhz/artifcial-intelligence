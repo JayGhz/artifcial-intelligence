{
 "cells": [
  {
   "cell_type": "code",
   "execution_count": 1,
   "metadata": {},
   "outputs": [],
   "source": [
    "def search(matrix):\n",
    "    rows = len(matrix)\n",
    "    cols = len(matrix[0])\n",
    "\n",
    "    start = (0, 0)\n",
    "    end = (rows - 1, cols - 1)\n",
    "\n",
    "    # Initializa search\n",
    "    current = start\n",
    "    path = [current]\n",
    "\n",
    "    while current != end:\n",
    "        x, y = current\n",
    "        neighbors = []\n",
    "\n",
    "        # Check the neighbors\n",
    "        if x + 1 < rows:\n",
    "            neighbors.append((x + 1, y))\n",
    "        if y + 1 < cols:\n",
    "            neighbors.append((x, y + 1))\n",
    "\n",
    "        # Choose the neighbor with the lowest cost\n",
    "        next_move = min(\n",
    "            neighbors, key=lambda n: abs(matrix[n[0]][n[1]] - matrix[end[0]][end[1]])\n",
    "        )\n",
    "        current = next_move\n",
    "        path.append(current)\n",
    "\n",
    "    return path"
   ]
  },
  {
   "cell_type": "code",
   "execution_count": 2,
   "metadata": {},
   "outputs": [
    {
     "name": "stdout",
     "output_type": "stream",
     "text": [
      "[(0, 0), (0, 1), (0, 2), (1, 2), (2, 2)]\n"
     ]
    }
   ],
   "source": [
    "matrix = [[-18, -19, -20], [-16, -17, -20], [-15, -15, -20]]\n",
    "\n",
    "path = search(matrix)\n",
    "print(path)"
   ]
  },
  {
   "cell_type": "code",
   "execution_count": 3,
   "metadata": {},
   "outputs": [
    {
     "name": "stdout",
     "output_type": "stream",
     "text": [
      "Path: [(0, 0), (0, 1), (0, 2), (1, 2), (2, 2)]\n"
     ]
    }
   ],
   "source": [
    "def search(matrix):\n",
    "    rows = len(matrix)\n",
    "    cols = len(matrix[0])\n",
    "\n",
    "    start = (0, 0)\n",
    "    end = (rows - 1, cols - 1)\n",
    "\n",
    "    # Initializa search\n",
    "    current = start\n",
    "    path = [current]\n",
    "\n",
    "    while current != end:\n",
    "        x, y = current\n",
    "        neighbors = []\n",
    "\n",
    "        # Check the neighbors\n",
    "        if x + 1 < rows:\n",
    "            neighbors.append((x + 1, y))\n",
    "        if y + 1 < cols:\n",
    "            neighbors.append((x, y + 1))\n",
    "        # Add diagonal movement to the right\n",
    "        if x + 1 < rows and y + 1 < cols:\n",
    "            neighbors.append((x + 1, y + 1))\n",
    "\n",
    "        # Choose the neighbor with the lowest cost\n",
    "        next_move = min(\n",
    "            neighbors, key=lambda n: abs(matrix[n[0]][n[1]] - matrix[end[0]][end[1]])\n",
    "        )\n",
    "        current = next_move\n",
    "        path.append(current)\n",
    "\n",
    "    return path\n",
    "\n",
    "\n",
    "path = search(matrix)\n",
    "print(\"Path:\", path)"
   ]
  },
  {
   "cell_type": "code",
   "execution_count": 4,
   "metadata": {},
   "outputs": [
    {
     "name": "stdout",
     "output_type": "stream",
     "text": [
      "Path: [(0, 0), (1, 0), (2, 0), (3, 1), (3, 2), (4, 3), (4, 4)]\n"
     ]
    }
   ],
   "source": [
    "matrix = [\n",
    "    [42, 17, 89, 33, 5],\n",
    "    [76, 12, 54, 91, 28],\n",
    "    [63, 95, 8, 40, 71],\n",
    "    [19, 83, 47, 26, 59],\n",
    "    [14, 67, 93, 31, 52],\n",
    "]\n",
    "\n",
    "path = search(matrix)\n",
    "print(\"Path:\", path)"
   ]
  }
 ],
 "metadata": {
  "kernelspec": {
   "display_name": "Python 3",
   "language": "python",
   "name": "python3"
  },
  "language_info": {
   "codemirror_mode": {
    "name": "ipython",
    "version": 3
   },
   "file_extension": ".py",
   "mimetype": "text/x-python",
   "name": "python",
   "nbconvert_exporter": "python",
   "pygments_lexer": "ipython3",
   "version": "3.13.2"
  }
 },
 "nbformat": 4,
 "nbformat_minor": 2
}
