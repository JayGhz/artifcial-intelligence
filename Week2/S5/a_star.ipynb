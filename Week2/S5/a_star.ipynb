{
 "cells": [
  {
   "cell_type": "code",
   "execution_count": 2,
   "metadata": {},
   "outputs": [],
   "source": [
    "class Graph:\n",
    "    def __init__(self, adjac_lis):\n",
    "        self.adjac_lis = adjac_lis\n",
    "\n",
    "    def get_neighbors(self, v):\n",
    "        return self.adjac_lis[v]\n",
    "\n",
    "    def h(self, n):\n",
    "        H = {\"A\": 1, \"B\": 1, \"C\": 1, \"D\": 1, \"E\": 1, \"F\": 1, \"G\": 1, \"H\": 1, \"I\": 1}\n",
    "\n",
    "        return H[n]\n",
    "\n",
    "    def a_star_algorithm(self, start, stop):\n",
    "        open_lst = set([start])\n",
    "        closed_lst = set([])\n",
    "\n",
    "        poo = {}\n",
    "        poo[start] = 0\n",
    "\n",
    "        par = {}\n",
    "        par[start] = start\n",
    "\n",
    "        while len(open_lst) > 0:\n",
    "            n = None\n",
    "\n",
    "            for v in open_lst:\n",
    "                if n == None or poo[v] + self.h(v) < poo[n] + self.h(n):\n",
    "                    n = v\n",
    "\n",
    "            if n == None:\n",
    "                print(\"Ruta no existe!\")\n",
    "                return None\n",
    "\n",
    "            if n == stop:\n",
    "                reconst_path = []\n",
    "\n",
    "                while par[n] != n:\n",
    "                    reconst_path.append(n)\n",
    "                    n = par[n]\n",
    "\n",
    "                reconst_path.append(start)\n",
    "\n",
    "                reconst_path.reverse()\n",
    "\n",
    "                print(\"Ruta encontrada (nodos): {}\".format(reconst_path))\n",
    "                return reconst_path\n",
    "\n",
    "            for m, weight in self.get_neighbors(n):\n",
    "                if m not in open_lst and m not in closed_lst:\n",
    "                    open_lst.add(m)\n",
    "                    par[m] = n\n",
    "                    poo[m] = poo[n] + weight\n",
    "                else:\n",
    "                    if poo[m] > poo[n] + weight:\n",
    "                        poo[m] = poo[n] + weight\n",
    "                        par[m] = n\n",
    "\n",
    "                        if m in closed_lst:\n",
    "                            closed_lst.remove(m)\n",
    "                            open_lst.add(m)\n",
    "\n",
    "            open_lst.remove(n)\n",
    "            closed_lst.add(n)\n",
    "\n",
    "        print(\"Esta ruta no existe\")\n",
    "        return None"
   ]
  },
  {
   "cell_type": "code",
   "execution_count": 3,
   "metadata": {},
   "outputs": [
    {
     "name": "stdout",
     "output_type": "stream",
     "text": [
      "Ruta encontrada (nodos): ['A', 'C', 'H', 'G', 'I']\n"
     ]
    },
    {
     "data": {
      "text/plain": [
       "['A', 'C', 'H', 'G', 'I']"
      ]
     },
     "execution_count": 3,
     "metadata": {},
     "output_type": "execute_result"
    }
   ],
   "source": [
    "adjac_lis = {\n",
    "    \"A\": [(\"B\", 3), (\"C\", 4), (\"F\", 7)],\n",
    "    \"B\": [(\"A\", 3), (\"H\", 6)],\n",
    "    \"C\": [(\"A\", 4), (\"H\", 3), (\"D\", 5)],\n",
    "    \"D\": [(\"H\", 2), (\"C\", 5), (\"F\", 7), (\"G\", 2), (\"I\", 12)],\n",
    "    \"E\": [(\"F\", 4), (\"I\", 6)],\n",
    "    \"F\": [(\"A\", 7), (\"D\", 7), (\"I\", 16), (\"E\", 4)],\n",
    "    \"G\": [(\"H\", 1), (\"I\", 5), (\"D\", 2)],\n",
    "    \"H\": [(\"B\", 6), (\"C\", 3), (\"D\", 2), (\"G\", 1)],\n",
    "    \"I\": [(\"E\", 6), (\"F\", 16), (\"D\", 12), (\"G\", 5)],\n",
    "}\n",
    "grafo = Graph(adjac_lis)\n",
    "grafo.a_star_algorithm(\"A\", \"I\")"
   ]
  }
 ],
 "metadata": {
  "kernelspec": {
   "display_name": "Python 3",
   "language": "python",
   "name": "python3"
  },
  "language_info": {
   "codemirror_mode": {
    "name": "ipython",
    "version": 3
   },
   "file_extension": ".py",
   "mimetype": "text/x-python",
   "name": "python",
   "nbconvert_exporter": "python",
   "pygments_lexer": "ipython3",
   "version": "3.13.2"
  }
 },
 "nbformat": 4,
 "nbformat_minor": 2
}
