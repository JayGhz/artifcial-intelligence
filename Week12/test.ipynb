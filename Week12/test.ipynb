{
 "cells": [
  {
   "cell_type": "code",
   "execution_count": 4,
   "metadata": {},
   "outputs": [
    {
     "name": "stdout",
     "output_type": "stream",
     "text": [
      "p: True\n",
      "Negacion: False\n",
      "Conjuncion: False\n",
      "Disyuncion: True\n",
      "Implicacion: False\n",
      "Doble implicacion: False\n"
     ]
    }
   ],
   "source": [
    "p = True # Hace calor\n",
    "q = False # Usare bloqueador\n",
    "\n",
    "print(\"p:\", p)\n",
    "print(\"Negacion:\", not p)\n",
    "print(\"Conjuncion:\", p and q)\n",
    "print(\"Disyuncion:\", p or q)\n",
    "print(\"Implicacion:\", not p or q)\n",
    "print(\"Doble implicacion:\", p == q)\n"
   ]
  },
  {
   "cell_type": "code",
   "execution_count": 5,
   "metadata": {},
   "outputs": [
    {
     "name": "stdout",
     "output_type": "stream",
     "text": [
      "(p ∨ q ) ∧ ~r = True\n"
     ]
    }
   ],
   "source": [
    "p = True # Hace calor\n",
    "q = False # Usare bloqueador\n",
    "r = False # Usare un short\n",
    "\n",
    "print(\"(p ∨ q ) ∧ ~r =\", (p or q) and not r)\n"
   ]
  }
 ],
 "metadata": {
  "kernelspec": {
   "display_name": "env",
   "language": "python",
   "name": "python3"
  },
  "language_info": {
   "codemirror_mode": {
    "name": "ipython",
    "version": 3
   },
   "file_extension": ".py",
   "mimetype": "text/x-python",
   "name": "python",
   "nbconvert_exporter": "python",
   "pygments_lexer": "ipython3",
   "version": "3.13.2"
  }
 },
 "nbformat": 4,
 "nbformat_minor": 2
}
