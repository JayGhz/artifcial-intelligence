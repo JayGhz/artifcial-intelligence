{
 "cells": [
  {
   "cell_type": "code",
   "execution_count": 46,
   "metadata": {},
   "outputs": [],
   "source": [
    "import numpy as np"
   ]
  },
  {
   "cell_type": "code",
   "execution_count": 47,
   "metadata": {},
   "outputs": [],
   "source": [
    "x = np.array([[-1, -1], [1, -1], [-1, 1], [1, 1]])\n",
    "y = np.array([-1, 1, 1, 1])\n",
    "w = np.array([0, 2])\n",
    "\n",
    "theta = -0.5\n",
    "learning_rate = 1\n",
    "num_epocas = 20"
   ]
  },
  {
   "cell_type": "code",
   "execution_count": 48,
   "metadata": {},
   "outputs": [],
   "source": [
    "# Funcion de activacion con los posibles resultados\n",
    "def activacion(z):\n",
    "    if z > 0:\n",
    "        return 1\n",
    "    else:\n",
    "        return -1\n",
    "\n"
   ]
  },
  {
   "cell_type": "code",
   "execution_count": null,
   "metadata": {},
   "outputs": [
    {
     "name": "stdout",
     "output_type": "stream",
     "text": [
      "Epoca: 1\n",
      "Iteracion: 0 Valor x: [-1 -1] Salida real: -1 Salida predicha: -1 Error: 0\n",
      "Iteracion: 1 Valor x: [ 1 -1] Salida real: 1 Salida predicha: -1 Error: 2\n",
      "Iteracion: 2 Valor x: [-1  1] Salida real: 1 Salida predicha: -1 Error: 2\n",
      "Iteracion: 3 Valor x: [1 1] Salida real: 1 Salida predicha: 1 Error: 0\n",
      "Epoca: 2\n",
      "Iteracion: 0 Valor x: [-1 -1] Salida real: -1 Salida predicha: 1 Error: -2\n",
      "Iteracion: 1 Valor x: [ 1 -1] Salida real: 1 Salida predicha: -1 Error: 2\n",
      "Iteracion: 2 Valor x: [-1  1] Salida real: 1 Salida predicha: 1 Error: 0\n",
      "Iteracion: 3 Valor x: [1 1] Salida real: 1 Salida predicha: 1 Error: 0\n",
      "Epoca: 3\n",
      "Iteracion: 0 Valor x: [-1 -1] Salida real: -1 Salida predicha: -1 Error: 0\n",
      "Iteracion: 1 Valor x: [ 1 -1] Salida real: 1 Salida predicha: 1 Error: 0\n",
      "Iteracion: 2 Valor x: [-1  1] Salida real: 1 Salida predicha: 1 Error: 0\n",
      "Iteracion: 3 Valor x: [1 1] Salida real: 1 Salida predicha: 1 Error: 0\n",
      "\n",
      "Entrenamiento completado en la época: 3\n"
     ]
    }
   ],
   "source": [
    "#  Entrenamiento\n",
    "for epoca in range(num_epocas):\n",
    "    error_total = 0\n",
    "    print(\"\\nEpoca:\", epoca + 1)\n",
    "    for i in range(len(x)):\n",
    "        xi = x[i]\n",
    "        obj = y[i]\n",
    "        z = np.dot(w, xi) + theta\n",
    "        y_pred = activacion(z)\n",
    "        error = obj - y_pred\n",
    "        error_total += abs(error)\n",
    "\n",
    "        print(\n",
    "            f\"Iteracion: {i}\",\n",
    "            f\"Valor x: {xi}\",\n",
    "            f\"Salida real: {obj}\",\n",
    "            f\"Salida predicha: {y_pred}\",\n",
    "            f\"Error: {error}\"\n",
    "        )\n",
    "\n",
    "        if error != 0:\n",
    "            w += learning_rate * error * xi\n",
    "            theta += learning_rate * error\n",
    "    if error_total == 0:\n",
    "        print(\"\\nEntrenamiento completado en la época:\", epoca + 1)\n",
    "        break"
   ]
  }
 ],
 "metadata": {
  "kernelspec": {
   "display_name": "env",
   "language": "python",
   "name": "python3"
  },
  "language_info": {
   "codemirror_mode": {
    "name": "ipython",
    "version": 3
   },
   "file_extension": ".py",
   "mimetype": "text/x-python",
   "name": "python",
   "nbconvert_exporter": "python",
   "pygments_lexer": "ipython3",
   "version": "3.13.2"
  }
 },
 "nbformat": 4,
 "nbformat_minor": 2
}
