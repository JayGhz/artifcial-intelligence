{
 "cells": [
  {
   "cell_type": "code",
   "execution_count": 48,
   "metadata": {},
   "outputs": [],
   "source": [
    "import numpy as np"
   ]
  },
  {
   "cell_type": "code",
   "execution_count": 49,
   "metadata": {},
   "outputs": [],
   "source": [
    "x = np.array([[-1, -1], [1, -1], [-1, 1], [1, 1]])\n",
    "y = np.array([-1, 1, 1, 1])\n",
    "w = np.array([0, 2, 0])\n",
    "\n",
    "theta = -0.5\n",
    "learning_rate = 1\n",
    "num_epocas = 10"
   ]
  },
  {
   "cell_type": "code",
   "execution_count": null,
   "metadata": {},
   "outputs": [],
   "source": [
    "# Funcion de activacion con los posibles resultados\n",
    "def activacion(z):\n",
    "    if z > 0:\n",
    "        return 1\n",
    "    else:\n",
    "        return 0\n",
    "\n"
   ]
  },
  {
   "cell_type": "code",
   "execution_count": 51,
   "metadata": {},
   "outputs": [
    {
     "name": "stdout",
     "output_type": "stream",
     "text": [
      "Epoca: 1\n"
     ]
    },
    {
     "ename": "ValueError",
     "evalue": "shapes (3,) and (2,) not aligned: 3 (dim 0) != 2 (dim 0)",
     "output_type": "error",
     "traceback": [
      "\u001b[31m---------------------------------------------------------------------------\u001b[39m",
      "\u001b[31mValueError\u001b[39m                                Traceback (most recent call last)",
      "\u001b[36mCell\u001b[39m\u001b[36m \u001b[39m\u001b[32mIn[51]\u001b[39m\u001b[32m, line 8\u001b[39m\n\u001b[32m      6\u001b[39m xi = x[i]\n\u001b[32m      7\u001b[39m obj = y[i]\n\u001b[32m----> \u001b[39m\u001b[32m8\u001b[39m z = \u001b[43mnp\u001b[49m\u001b[43m.\u001b[49m\u001b[43mdot\u001b[49m\u001b[43m(\u001b[49m\u001b[43mw\u001b[49m\u001b[43m,\u001b[49m\u001b[43m \u001b[49m\u001b[43mxi\u001b[49m\u001b[43m)\u001b[49m + theta\n\u001b[32m      9\u001b[39m y_pred = activacion(z)\n\u001b[32m     10\u001b[39m error = obj - y_pred\n",
      "\u001b[31mValueError\u001b[39m: shapes (3,) and (2,) not aligned: 3 (dim 0) != 2 (dim 0)"
     ]
    }
   ],
   "source": [
    "#  Entrenamiento\n",
    "for epoca in range(num_epocas):\n",
    "    error_total = 0\n",
    "    print(\"Epoca:\", epoca + 1)\n",
    "    for i in range(len(x)):\n",
    "        xi = x[i]\n",
    "        obj = y[i]\n",
    "        z = np.dot(w, xi) + theta\n",
    "        y_pred = activacion(z)\n",
    "        error = obj - y_pred\n",
    "        error_total += abs(error)\n",
    "\n",
    "        print(\n",
    "            f\"Iteracion: {i}\",\n",
    "            f\"Valor x: {xi}\",\n",
    "            f\"Salida real: {obj}\",\n",
    "            f\"Salida predicha: {y_pred}\",\n",
    "            f\"Error: {error}\"\n",
    "        )\n",
    "\n",
    "        if error != 0:\n",
    "            w += learning_rate * error * xi\n",
    "            theta += learning_rate * error\n",
    "    if error_total == 0:\n",
    "        print(\"\\nEntrenamiento completado en la época:\", epoca)\n",
    "        break"
   ]
  }
 ],
 "metadata": {
  "kernelspec": {
   "display_name": "env",
   "language": "python",
   "name": "python3"
  },
  "language_info": {
   "codemirror_mode": {
    "name": "ipython",
    "version": 3
   },
   "file_extension": ".py",
   "mimetype": "text/x-python",
   "name": "python",
   "nbconvert_exporter": "python",
   "pygments_lexer": "ipython3",
   "version": "3.13.2"
  }
 },
 "nbformat": 4,
 "nbformat_minor": 2
}
