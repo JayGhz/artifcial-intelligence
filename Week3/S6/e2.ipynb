{
  "cells": [
    {
      "cell_type": "code",
      "execution_count": 7,
      "metadata": {
        "id": "MvEnWkRAvsH8"
      },
      "outputs": [],
      "source": [
        "import random"
      ]
    },
    {
      "cell_type": "code",
      "execution_count": 8,
      "metadata": {
        "id": "-I0E2V_jwhjo"
      },
      "outputs": [],
      "source": [
        "pesos = [51, 119, 68, 34, 17, 102]\n",
        "beneficio = [204, 51, 119, 68, 51, 136]\n",
        "capacidad_maxima = 255"
      ]
    },
    {
      "cell_type": "code",
      "execution_count": 9,
      "metadata": {
        "id": "Kw6qWoSrxJIt"
      },
      "outputs": [],
      "source": [
        "#funcion evalua_beneficio que nos devolverá una solución y verificando siempre no exceder la capacidad_maxima\n",
        "#devuelve el beneficio total si solo si los pesos evaluados no superan a la capacidad maxima\n",
        "\n",
        "#la solucion es 0 o 1 dependiendo si llevamos un objeto o no\n",
        "def evalua_beneficio(solucion):\n",
        "  peso_total = sum(p * s for p, s in zip(pesos, solucion))\n",
        "  beneficio_total = sum(b * s for b, s in zip(beneficio, solucion))\n",
        "\n",
        "  if peso_total > capacidad_maxima:\n",
        "    return 0\n",
        "\n",
        "  return beneficio_total"
      ]
    },
    {
      "cell_type": "code",
      "execution_count": 10,
      "metadata": {
        "id": "X71RM8z1yekk"
      },
      "outputs": [],
      "source": [
        "#definiendo una posible solucion\n",
        "\n",
        "def define_posible_solucion():\n",
        "  while True:\n",
        "    solucion = [random.randint(0,1) for _ in pesos] #se genera un random entre 0 o 1 en un arreglo de 6 posiciones\n",
        "    peso_total = sum(p * s for p, s in zip(pesos, solucion))\n",
        "\n",
        "    if peso_total <= capacidad_maxima:\n",
        "      return solucion"
      ]
    },
    {
      "cell_type": "code",
      "execution_count": 11,
      "metadata": {
        "id": "1jSiP5LQzaXK"
      },
      "outputs": [],
      "source": [
        "def define_posible_vecino(solucion):\n",
        "  vecinos = []\n",
        "\n",
        "  for i in range(len(solucion)):\n",
        "    vecino = solucion[:]\n",
        "    vecino[i] = 1 - vecino[i]\n",
        "\n",
        "    peso_total = sum(p * s for p, s in zip(pesos, vecino))\n",
        "\n",
        "    if peso_total <= capacidad_maxima:\n",
        "      vecinos.append(vecino)\n",
        "\n",
        "  return vecinos"
      ]
    },
    {
      "cell_type": "code",
      "execution_count": 12,
      "metadata": {
        "id": "43d_lkNQ0Y4w"
      },
      "outputs": [],
      "source": [
        "def hill_climbing():\n",
        "\n",
        "  #1. definimmos una posible solucion aletoria\n",
        "  solucion_inicial = define_posible_solucion()\n",
        "\n",
        "  #2. evaluamos la solucion\n",
        "  mejor_beneficio = evalua_beneficio(solucion_inicial)\n",
        "\n",
        "  while True:\n",
        "    #3. amos a generar los vecinos a la solucion original\n",
        "    vecinos = define_posible_vecino(solucion_inicial)\n",
        "\n",
        "    mejor_vecino = solucion_inicial\n",
        "\n",
        "    #4. recorrecer a los vecinos en busca de otros vecinos\n",
        "    for vecino in vecinos:\n",
        "      beneficio_vecino = evalua_beneficio(vecino)\n",
        "      if beneficio_vecino > mejor_beneficio:\n",
        "        mejor_vecino = vecino\n",
        "        mejor_beneficio = beneficio_vecino\n",
        "\n",
        "    #5. no se encuentro mejor propuesta que la inicial\n",
        "    if mejor_vecino == solucion_inicial:\n",
        "      break\n",
        "\n",
        "    solucion_inicial = mejor_vecino\n",
        "\n",
        "  peso_total = sum(p * s for p, s in zip(pesos, solucion_inicial))\n",
        "\n",
        "  return solucion_inicial, mejor_beneficio, peso_total\n",
        "\n"
      ]
    },
    {
      "cell_type": "code",
      "execution_count": 13,
      "metadata": {
        "colab": {
          "base_uri": "https://localhost:8080/"
        },
        "id": "MrjzZX1q2lGx",
        "outputId": "c9029db6-18e9-4219-b4e4-2929b2ca3230"
      },
      "outputs": [
        {
          "name": "stdout",
          "output_type": "stream",
          "text": [
            "La solucion encontrada (0 = no llevar, 1 = si llevar):  [1, 0, 1, 1, 0, 1]\n",
            "Beneficio total:  527\n",
            "Peso total:  255\n"
          ]
        }
      ],
      "source": [
        "solucion, beneficio_total, peso_total = hill_climbing()\n",
        "\n",
        "print(\"La solucion encontrada (0 = no llevar, 1 = si llevar): \", solucion)\n",
        "print(\"Beneficio total: \", beneficio_total)\n",
        "print(\"Peso total: \", peso_total)"
      ]
    }
  ],
  "metadata": {
    "colab": {
      "provenance": []
    },
    "kernelspec": {
      "display_name": "venv",
      "language": "python",
      "name": "python3"
    },
    "language_info": {
      "codemirror_mode": {
        "name": "ipython",
        "version": 3
      },
      "file_extension": ".py",
      "mimetype": "text/x-python",
      "name": "python",
      "nbconvert_exporter": "python",
      "pygments_lexer": "ipython3",
      "version": "3.12.7"
    }
  },
  "nbformat": 4,
  "nbformat_minor": 0
}
