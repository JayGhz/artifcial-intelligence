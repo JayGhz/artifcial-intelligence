{
 "cells": [
  {
   "cell_type": "code",
   "execution_count": 104,
   "metadata": {},
   "outputs": [],
   "source": [
    "import random"
   ]
  },
  {
   "cell_type": "code",
   "execution_count": 105,
   "metadata": {},
   "outputs": [],
   "source": [
    "weights = [1, 2, 4 , 5 , 2, 8]\n",
    "costs = [2, 5, 6, 10, 13, 16]\n",
    "max_weight = 8"
   ]
  },
  {
   "cell_type": "code",
   "execution_count": 106,
   "metadata": {},
   "outputs": [],
   "source": [
    "def total_value(solution):\n",
    "    total_weight = sum(w * s for w, s in zip(weights, solution))\n",
    "    total_cost = sum(c * s for c, s in zip(costs, solution))\n",
    "    \n",
    "    if total_weight >= max_weight:\n",
    "        return 0\n",
    "    \n",
    "    return total_cost"
   ]
  },
  {
   "cell_type": "code",
   "execution_count": 107,
   "metadata": {},
   "outputs": [],
   "source": [
    "def generate_solution():\n",
    "    return [random.randint(0, 1) for _ in range(len(weights))]"
   ]
  },
  {
   "cell_type": "code",
   "execution_count": 108,
   "metadata": {},
   "outputs": [],
   "source": [
    "def hill_climbing(max_iterations = 100):\n",
    "    solution = generate_solution()\n",
    "    value = total_value(solution)\n",
    "    \n",
    "    for i in range(max_iterations):\n",
    "        neighbor = solution[:]\n",
    "        idx = random.randint(0, len(weights) - 1)\n",
    "        neighbor[idx] = 1 - neighbor[idx]\n",
    "        neighbor_value = total_value(neighbor)\n",
    "        \n",
    "        if neighbor_value > value:\n",
    "            solution = neighbor[:]\n",
    "            value = neighbor_value\n",
    "\n",
    "    return solution, value"
   ]
  },
  {
   "cell_type": "code",
   "execution_count": 109,
   "metadata": {},
   "outputs": [
    {
     "name": "stdout",
     "output_type": "stream",
     "text": [
      "Best solution: [1, 1, 1, 1, 0, 1]\n",
      "Best cost: 0\n"
     ]
    }
   ],
   "source": [
    "best_solution, best_cost = hill_climbing()\n",
    "print(\"Best solution:\", best_solution)\n",
    "print(\"Best cost:\", best_cost)"
   ]
  }
 ],
 "metadata": {
  "kernelspec": {
   "display_name": "venv",
   "language": "python",
   "name": "python3"
  },
  "language_info": {
   "codemirror_mode": {
    "name": "ipython",
    "version": 3
   },
   "file_extension": ".py",
   "mimetype": "text/x-python",
   "name": "python",
   "nbconvert_exporter": "python",
   "pygments_lexer": "ipython3",
   "version": "3.12.7"
  }
 },
 "nbformat": 4,
 "nbformat_minor": 2
}
