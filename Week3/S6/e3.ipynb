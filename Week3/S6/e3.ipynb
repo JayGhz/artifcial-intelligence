{
 "cells": [
  {
   "cell_type": "code",
   "execution_count": 174,
   "metadata": {},
   "outputs": [],
   "source": [
    "import random"
   ]
  },
  {
   "cell_type": "code",
   "execution_count": 175,
   "metadata": {},
   "outputs": [],
   "source": [
    "# Generar una posible solución: una reina por columna, posición aleatoria en fila\n",
    "def define_posible_solucion():\n",
    "    return [random.randint(0, 7) for _ in range(8)]"
   ]
  },
  {
   "cell_type": "code",
   "execution_count": 176,
   "metadata": {},
   "outputs": [],
   "source": [
    "# Evaluar la cantidad de conflictos entre reinas (menor es mejor)\n",
    "def evalua_conflictos(solucion):\n",
    "    conflictos = 0\n",
    "    for i in range(len(solucion)):\n",
    "        for j in range(i + 1, len(solucion)):\n",
    "            if solucion[i] == solucion[j] or abs(solucion[i] - solucion[j]) == abs(i - j):\n",
    "                conflictos += 1\n",
    "    return -conflictos "
   ]
  },
  {
   "cell_type": "code",
   "execution_count": 177,
   "metadata": {},
   "outputs": [],
   "source": [
    "# Generar vecinos: mover una reina en una columna a otra fila\n",
    "def define_posible_vecino(solucion):\n",
    "    vecinos = []\n",
    "    for col in range(8):\n",
    "        for fila in range(8):\n",
    "            if solucion[col] != fila:\n",
    "                vecino = solucion[:]\n",
    "                vecino[col] = fila\n",
    "                vecinos.append((vecino, col))\n",
    "    return vecinos"
   ]
  },
  {
   "cell_type": "code",
   "execution_count": 178,
   "metadata": {},
   "outputs": [],
   "source": [
    "def hill_climbing():\n",
    "    solucion_inicial = define_posible_solucion()\n",
    "    imprimir_tablero(solucion_inicial, \"Tablero inicial\")\n",
    "    solucion_inicial = define_posible_solucion()    \n",
    "    mejor_beneficio = evalua_conflictos(solucion_inicial)\n",
    "    movimientos = 0\n",
    "\n",
    "    while True:\n",
    "        vecinos = define_posible_vecino(solucion_inicial)\n",
    "        mejor_vecino = solucion_inicial\n",
    "        beneficio_vecino_max = mejor_beneficio\n",
    "\n",
    "        for vecino, col in vecinos:\n",
    "            beneficio_vecino = evalua_conflictos(vecino)\n",
    "            if beneficio_vecino > beneficio_vecino_max:\n",
    "                mejor_vecino = vecino\n",
    "                beneficio_vecino_max = beneficio_vecino\n",
    "                movimiento_col = col  # solo actualizamos si hay mejora\n",
    "\n",
    "        if mejor_vecino == solucion_inicial:\n",
    "            break\n",
    "\n",
    "        # Solo contamos como movimiento si cambia al menos una columna\n",
    "        if mejor_vecino != solucion_inicial:\n",
    "            movimientos += 1\n",
    "\n",
    "        solucion_inicial = mejor_vecino\n",
    "        mejor_beneficio = beneficio_vecino_max\n",
    "\n",
    "    return solucion_inicial, -mejor_beneficio, movimientos"
   ]
  },
  {
   "cell_type": "code",
   "execution_count": 179,
   "metadata": {},
   "outputs": [],
   "source": [
    "def imprimir_tablero(solucion, titulo=\"Tablero\"):\n",
    "    print(f\"\\n{titulo}:\")\n",
    "    for fila in range(8):\n",
    "        linea = \"\"\n",
    "        for col in range(8):\n",
    "            if solucion[col] == fila:\n",
    "                linea += \" Q \"\n",
    "            else:\n",
    "                linea += \" . \"\n",
    "        print(linea)"
   ]
  },
  {
   "cell_type": "code",
   "execution_count": 180,
   "metadata": {},
   "outputs": [
    {
     "name": "stdout",
     "output_type": "stream",
     "text": [
      "\n",
      "Tablero inicial:\n",
      " .  .  Q  .  .  .  .  . \n",
      " .  .  .  .  .  .  .  . \n",
      " Q  .  .  .  .  .  .  . \n",
      " .  .  .  .  .  .  Q  . \n",
      " .  .  .  .  .  .  .  . \n",
      " .  .  .  .  Q  .  .  . \n",
      " .  .  .  .  .  .  .  . \n",
      " .  Q  .  Q  .  Q  .  Q \n",
      "\n",
      "Tablero final:\n",
      " .  .  .  .  .  Q  .  . \n",
      " Q  .  .  .  .  .  .  . \n",
      " .  .  .  .  Q  .  .  . \n",
      " .  .  .  .  .  .  Q  . \n",
      " .  Q  .  .  .  .  .  . \n",
      " .  .  .  Q  .  .  .  . \n",
      " .  .  Q  .  .  .  .  . \n",
      " .  .  .  .  .  .  .  Q \n",
      "\n",
      "Solución encontrada: [1, 4, 6, 5, 2, 0, 3, 7]\n",
      "Conflictos restantes: 2\n",
      "Movimientos realizados: 3\n"
     ]
    }
   ],
   "source": [
    "solucion, conflictos, movimientos = hill_climbing()\n",
    "imprimir_tablero(solucion, \"Tablero final\")\n",
    "print(\"\\nSolución encontrada:\", solucion)\n",
    "print(\"Conflictos restantes:\", conflictos)\n",
    "print(\"Movimientos realizados:\", movimientos)"
   ]
  }
 ],
 "metadata": {
  "kernelspec": {
   "display_name": "venv",
   "language": "python",
   "name": "python3"
  },
  "language_info": {
   "codemirror_mode": {
    "name": "ipython",
    "version": 3
   },
   "file_extension": ".py",
   "mimetype": "text/x-python",
   "name": "python",
   "nbconvert_exporter": "python",
   "pygments_lexer": "ipython3",
   "version": "3.12.7"
  }
 },
 "nbformat": 4,
 "nbformat_minor": 2
}
